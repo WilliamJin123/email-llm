{
 "cells": [
  {
   "cell_type": "code",
   "execution_count": 3,
   "id": "8101cdb9-bcc8-480a-9339-136ce52b49ba",
   "metadata": {},
   "outputs": [
    {
     "name": "stdout",
     "output_type": "stream",
     "text": [
      "Requirement already satisfied: unsloth in c:\\users\\jinwi\\programming-files\\email-llm\\.venv\\lib\\site-packages (2025.10.1)\n",
      "Requirement already satisfied: unsloth_zoo>=2025.10.1 in c:\\users\\jinwi\\programming-files\\email-llm\\.venv\\lib\\site-packages (from unsloth) (2025.10.1)\n",
      "Requirement already satisfied: torch>=2.4.0 in c:\\users\\jinwi\\programming-files\\email-llm\\.venv\\lib\\site-packages (from unsloth) (2.8.0)\n",
      "Requirement already satisfied: xformers>=0.0.27.post2 in c:\\users\\jinwi\\programming-files\\email-llm\\.venv\\lib\\site-packages (from unsloth) (0.0.32.post2)\n",
      "Requirement already satisfied: bitsandbytes in c:\\users\\jinwi\\programming-files\\email-llm\\.venv\\lib\\site-packages (from unsloth) (0.48.1)\n",
      "Requirement already satisfied: triton-windows in c:\\users\\jinwi\\programming-files\\email-llm\\.venv\\lib\\site-packages (from unsloth) (3.4.0.post20)\n",
      "Requirement already satisfied: packaging in c:\\users\\jinwi\\programming-files\\email-llm\\.venv\\lib\\site-packages (from unsloth) (25.0)\n",
      "Requirement already satisfied: tyro in c:\\users\\jinwi\\programming-files\\email-llm\\.venv\\lib\\site-packages (from unsloth) (0.9.32)\n",
      "Requirement already satisfied: transformers!=4.52.0,!=4.52.1,!=4.52.2,!=4.52.3,!=4.53.0,!=4.54.0,!=4.55.0,!=4.55.1,<=4.56.2,>=4.51.3 in c:\\users\\jinwi\\programming-files\\email-llm\\.venv\\lib\\site-packages (from unsloth) (4.55.4)\n",
      "Requirement already satisfied: datasets!=4.0.*,!=4.1.0,>=3.4.1 in c:\\users\\jinwi\\programming-files\\email-llm\\.venv\\lib\\site-packages (from unsloth) (4.1.1)\n",
      "Requirement already satisfied: sentencepiece>=0.2.0 in c:\\users\\jinwi\\programming-files\\email-llm\\.venv\\lib\\site-packages (from unsloth) (0.2.1)\n",
      "Requirement already satisfied: tqdm in c:\\users\\jinwi\\programming-files\\email-llm\\.venv\\lib\\site-packages (from unsloth) (4.67.1)\n",
      "Requirement already satisfied: psutil in c:\\users\\jinwi\\programming-files\\email-llm\\.venv\\lib\\site-packages (from unsloth) (7.1.0)\n",
      "Requirement already satisfied: wheel>=0.42.0 in c:\\users\\jinwi\\programming-files\\email-llm\\.venv\\lib\\site-packages (from unsloth) (0.45.1)\n",
      "Requirement already satisfied: numpy in c:\\users\\jinwi\\programming-files\\email-llm\\.venv\\lib\\site-packages (from unsloth) (2.3.3)\n",
      "Requirement already satisfied: accelerate>=0.34.1 in c:\\users\\jinwi\\programming-files\\email-llm\\.venv\\lib\\site-packages (from unsloth) (1.10.1)\n",
      "Requirement already satisfied: trl!=0.15.0,!=0.19.0,!=0.9.0,!=0.9.1,!=0.9.2,!=0.9.3,<=0.23.0,>=0.7.9 in c:\\users\\jinwi\\programming-files\\email-llm\\.venv\\lib\\site-packages (from unsloth) (0.22.2)\n",
      "Requirement already satisfied: peft!=0.11.0,>=0.7.1 in c:\\users\\jinwi\\programming-files\\email-llm\\.venv\\lib\\site-packages (from unsloth) (0.17.1)\n",
      "Requirement already satisfied: protobuf in c:\\users\\jinwi\\programming-files\\email-llm\\.venv\\lib\\site-packages (from unsloth) (6.32.1)\n",
      "Requirement already satisfied: huggingface_hub>=0.34.0 in c:\\users\\jinwi\\programming-files\\email-llm\\.venv\\lib\\site-packages (from unsloth) (0.35.3)\n",
      "Requirement already satisfied: hf_transfer in c:\\users\\jinwi\\programming-files\\email-llm\\.venv\\lib\\site-packages (from unsloth) (0.1.9)\n",
      "Requirement already satisfied: diffusers in c:\\users\\jinwi\\programming-files\\email-llm\\.venv\\lib\\site-packages (from unsloth) (0.35.1)\n",
      "Requirement already satisfied: torchvision in c:\\users\\jinwi\\programming-files\\email-llm\\.venv\\lib\\site-packages (from unsloth) (0.23.0)\n",
      "Requirement already satisfied: filelock in c:\\users\\jinwi\\programming-files\\email-llm\\.venv\\lib\\site-packages (from transformers!=4.52.0,!=4.52.1,!=4.52.2,!=4.52.3,!=4.53.0,!=4.54.0,!=4.55.0,!=4.55.1,<=4.56.2,>=4.51.3->unsloth) (3.19.1)\n",
      "Requirement already satisfied: pyyaml>=5.1 in c:\\users\\jinwi\\programming-files\\email-llm\\.venv\\lib\\site-packages (from transformers!=4.52.0,!=4.52.1,!=4.52.2,!=4.52.3,!=4.53.0,!=4.54.0,!=4.55.0,!=4.55.1,<=4.56.2,>=4.51.3->unsloth) (6.0.3)\n",
      "Requirement already satisfied: regex!=2019.12.17 in c:\\users\\jinwi\\programming-files\\email-llm\\.venv\\lib\\site-packages (from transformers!=4.52.0,!=4.52.1,!=4.52.2,!=4.52.3,!=4.53.0,!=4.54.0,!=4.55.0,!=4.55.1,<=4.56.2,>=4.51.3->unsloth) (2025.9.18)\n",
      "Requirement already satisfied: requests in c:\\users\\jinwi\\programming-files\\email-llm\\.venv\\lib\\site-packages (from transformers!=4.52.0,!=4.52.1,!=4.52.2,!=4.52.3,!=4.53.0,!=4.54.0,!=4.55.0,!=4.55.1,<=4.56.2,>=4.51.3->unsloth) (2.32.5)\n",
      "Requirement already satisfied: tokenizers<0.22,>=0.21 in c:\\users\\jinwi\\programming-files\\email-llm\\.venv\\lib\\site-packages (from transformers!=4.52.0,!=4.52.1,!=4.52.2,!=4.52.3,!=4.53.0,!=4.54.0,!=4.55.0,!=4.55.1,<=4.56.2,>=4.51.3->unsloth) (0.21.4)\n",
      "Requirement already satisfied: safetensors>=0.4.3 in c:\\users\\jinwi\\programming-files\\email-llm\\.venv\\lib\\site-packages (from transformers!=4.52.0,!=4.52.1,!=4.52.2,!=4.52.3,!=4.53.0,!=4.54.0,!=4.55.0,!=4.55.1,<=4.56.2,>=4.51.3->unsloth) (0.6.2)\n",
      "Requirement already satisfied: fsspec>=2023.5.0 in c:\\users\\jinwi\\programming-files\\email-llm\\.venv\\lib\\site-packages (from huggingface_hub>=0.34.0->unsloth) (2025.9.0)\n",
      "Requirement already satisfied: typing-extensions>=3.7.4.3 in c:\\users\\jinwi\\programming-files\\email-llm\\.venv\\lib\\site-packages (from huggingface_hub>=0.34.0->unsloth) (4.15.0)\n",
      "Requirement already satisfied: pyarrow>=21.0.0 in c:\\users\\jinwi\\programming-files\\email-llm\\.venv\\lib\\site-packages (from datasets!=4.0.*,!=4.1.0,>=3.4.1->unsloth) (21.0.0)\n",
      "Requirement already satisfied: dill<0.4.1,>=0.3.0 in c:\\users\\jinwi\\programming-files\\email-llm\\.venv\\lib\\site-packages (from datasets!=4.0.*,!=4.1.0,>=3.4.1->unsloth) (0.4.0)\n",
      "Requirement already satisfied: pandas in c:\\users\\jinwi\\programming-files\\email-llm\\.venv\\lib\\site-packages (from datasets!=4.0.*,!=4.1.0,>=3.4.1->unsloth) (2.3.3)\n",
      "Requirement already satisfied: xxhash in c:\\users\\jinwi\\programming-files\\email-llm\\.venv\\lib\\site-packages (from datasets!=4.0.*,!=4.1.0,>=3.4.1->unsloth) (3.6.0)\n",
      "Requirement already satisfied: multiprocess<0.70.17 in c:\\users\\jinwi\\programming-files\\email-llm\\.venv\\lib\\site-packages (from datasets!=4.0.*,!=4.1.0,>=3.4.1->unsloth) (0.70.16)\n",
      "Requirement already satisfied: aiohttp!=4.0.0a0,!=4.0.0a1 in c:\\users\\jinwi\\programming-files\\email-llm\\.venv\\lib\\site-packages (from fsspec[http]<=2025.9.0,>=2023.1.0->datasets!=4.0.*,!=4.1.0,>=3.4.1->unsloth) (3.13.0)\n",
      "Requirement already satisfied: aiohappyeyeballs>=2.5.0 in c:\\users\\jinwi\\programming-files\\email-llm\\.venv\\lib\\site-packages (from aiohttp!=4.0.0a0,!=4.0.0a1->fsspec[http]<=2025.9.0,>=2023.1.0->datasets!=4.0.*,!=4.1.0,>=3.4.1->unsloth) (2.6.1)\n",
      "Requirement already satisfied: aiosignal>=1.4.0 in c:\\users\\jinwi\\programming-files\\email-llm\\.venv\\lib\\site-packages (from aiohttp!=4.0.0a0,!=4.0.0a1->fsspec[http]<=2025.9.0,>=2023.1.0->datasets!=4.0.*,!=4.1.0,>=3.4.1->unsloth) (1.4.0)\n",
      "Requirement already satisfied: attrs>=17.3.0 in c:\\users\\jinwi\\programming-files\\email-llm\\.venv\\lib\\site-packages (from aiohttp!=4.0.0a0,!=4.0.0a1->fsspec[http]<=2025.9.0,>=2023.1.0->datasets!=4.0.*,!=4.1.0,>=3.4.1->unsloth) (25.4.0)\n",
      "Requirement already satisfied: frozenlist>=1.1.1 in c:\\users\\jinwi\\programming-files\\email-llm\\.venv\\lib\\site-packages (from aiohttp!=4.0.0a0,!=4.0.0a1->fsspec[http]<=2025.9.0,>=2023.1.0->datasets!=4.0.*,!=4.1.0,>=3.4.1->unsloth) (1.8.0)\n",
      "Requirement already satisfied: multidict<7.0,>=4.5 in c:\\users\\jinwi\\programming-files\\email-llm\\.venv\\lib\\site-packages (from aiohttp!=4.0.0a0,!=4.0.0a1->fsspec[http]<=2025.9.0,>=2023.1.0->datasets!=4.0.*,!=4.1.0,>=3.4.1->unsloth) (6.7.0)\n",
      "Requirement already satisfied: propcache>=0.2.0 in c:\\users\\jinwi\\programming-files\\email-llm\\.venv\\lib\\site-packages (from aiohttp!=4.0.0a0,!=4.0.0a1->fsspec[http]<=2025.9.0,>=2023.1.0->datasets!=4.0.*,!=4.1.0,>=3.4.1->unsloth) (0.4.0)\n",
      "Requirement already satisfied: yarl<2.0,>=1.17.0 in c:\\users\\jinwi\\programming-files\\email-llm\\.venv\\lib\\site-packages (from aiohttp!=4.0.0a0,!=4.0.0a1->fsspec[http]<=2025.9.0,>=2023.1.0->datasets!=4.0.*,!=4.1.0,>=3.4.1->unsloth) (1.22.0)\n",
      "Requirement already satisfied: idna>=2.0 in c:\\users\\jinwi\\programming-files\\email-llm\\.venv\\lib\\site-packages (from yarl<2.0,>=1.17.0->aiohttp!=4.0.0a0,!=4.0.0a1->fsspec[http]<=2025.9.0,>=2023.1.0->datasets!=4.0.*,!=4.1.0,>=3.4.1->unsloth) (3.10)\n",
      "Requirement already satisfied: charset_normalizer<4,>=2 in c:\\users\\jinwi\\programming-files\\email-llm\\.venv\\lib\\site-packages (from requests->transformers!=4.52.0,!=4.52.1,!=4.52.2,!=4.52.3,!=4.53.0,!=4.54.0,!=4.55.0,!=4.55.1,<=4.56.2,>=4.51.3->unsloth) (3.4.3)\n",
      "Requirement already satisfied: urllib3<3,>=1.21.1 in c:\\users\\jinwi\\programming-files\\email-llm\\.venv\\lib\\site-packages (from requests->transformers!=4.52.0,!=4.52.1,!=4.52.2,!=4.52.3,!=4.53.0,!=4.54.0,!=4.55.0,!=4.55.1,<=4.56.2,>=4.51.3->unsloth) (2.5.0)\n",
      "Requirement already satisfied: certifi>=2017.4.17 in c:\\users\\jinwi\\programming-files\\email-llm\\.venv\\lib\\site-packages (from requests->transformers!=4.52.0,!=4.52.1,!=4.52.2,!=4.52.3,!=4.53.0,!=4.54.0,!=4.55.0,!=4.55.1,<=4.56.2,>=4.51.3->unsloth) (2025.10.5)\n",
      "Requirement already satisfied: sympy>=1.13.3 in c:\\users\\jinwi\\programming-files\\email-llm\\.venv\\lib\\site-packages (from torch>=2.4.0->unsloth) (1.14.0)\n",
      "Requirement already satisfied: networkx in c:\\users\\jinwi\\programming-files\\email-llm\\.venv\\lib\\site-packages (from torch>=2.4.0->unsloth) (3.5)\n",
      "Requirement already satisfied: jinja2 in c:\\users\\jinwi\\programming-files\\email-llm\\.venv\\lib\\site-packages (from torch>=2.4.0->unsloth) (3.1.6)\n",
      "Requirement already satisfied: setuptools in c:\\users\\jinwi\\programming-files\\email-llm\\.venv\\lib\\site-packages (from torch>=2.4.0->unsloth) (80.9.0)\n",
      "Requirement already satisfied: mpmath<1.4,>=1.1.0 in c:\\users\\jinwi\\programming-files\\email-llm\\.venv\\lib\\site-packages (from sympy>=1.13.3->torch>=2.4.0->unsloth) (1.3.0)\n",
      "Requirement already satisfied: colorama in c:\\users\\jinwi\\programming-files\\email-llm\\.venv\\lib\\site-packages (from tqdm->unsloth) (0.4.6)\n",
      "Requirement already satisfied: torchao in c:\\users\\jinwi\\programming-files\\email-llm\\.venv\\lib\\site-packages (from unsloth_zoo>=2025.10.1->unsloth) (0.13.0)\n",
      "Requirement already satisfied: cut_cross_entropy in c:\\users\\jinwi\\programming-files\\email-llm\\.venv\\lib\\site-packages (from unsloth_zoo>=2025.10.1->unsloth) (25.1.1)\n",
      "Requirement already satisfied: pillow in c:\\users\\jinwi\\programming-files\\email-llm\\.venv\\lib\\site-packages (from unsloth_zoo>=2025.10.1->unsloth) (11.3.0)\n",
      "Requirement already satisfied: msgspec in c:\\users\\jinwi\\programming-files\\email-llm\\.venv\\lib\\site-packages (from unsloth_zoo>=2025.10.1->unsloth) (0.19.0)\n",
      "Requirement already satisfied: importlib_metadata in c:\\users\\jinwi\\programming-files\\email-llm\\.venv\\lib\\site-packages (from diffusers->unsloth) (8.7.0)\n",
      "Requirement already satisfied: zipp>=3.20 in c:\\users\\jinwi\\programming-files\\email-llm\\.venv\\lib\\site-packages (from importlib_metadata->diffusers->unsloth) (3.23.0)\n",
      "Requirement already satisfied: MarkupSafe>=2.0 in c:\\users\\jinwi\\programming-files\\email-llm\\.venv\\lib\\site-packages (from jinja2->torch>=2.4.0->unsloth) (3.0.3)\n",
      "Requirement already satisfied: python-dateutil>=2.8.2 in c:\\users\\jinwi\\programming-files\\email-llm\\.venv\\lib\\site-packages (from pandas->datasets!=4.0.*,!=4.1.0,>=3.4.1->unsloth) (2.9.0.post0)\n",
      "Requirement already satisfied: pytz>=2020.1 in c:\\users\\jinwi\\programming-files\\email-llm\\.venv\\lib\\site-packages (from pandas->datasets!=4.0.*,!=4.1.0,>=3.4.1->unsloth) (2025.2)\n",
      "Requirement already satisfied: tzdata>=2022.7 in c:\\users\\jinwi\\programming-files\\email-llm\\.venv\\lib\\site-packages (from pandas->datasets!=4.0.*,!=4.1.0,>=3.4.1->unsloth) (2025.2)\n",
      "Requirement already satisfied: six>=1.5 in c:\\users\\jinwi\\programming-files\\email-llm\\.venv\\lib\\site-packages (from python-dateutil>=2.8.2->pandas->datasets!=4.0.*,!=4.1.0,>=3.4.1->unsloth) (1.17.0)\n",
      "Requirement already satisfied: docstring-parser>=0.15 in c:\\users\\jinwi\\programming-files\\email-llm\\.venv\\lib\\site-packages (from tyro->unsloth) (0.17.0)\n",
      "Requirement already satisfied: rich>=11.1.0 in c:\\users\\jinwi\\programming-files\\email-llm\\.venv\\lib\\site-packages (from tyro->unsloth) (14.2.0)\n",
      "Requirement already satisfied: shtab>=1.5.6 in c:\\users\\jinwi\\programming-files\\email-llm\\.venv\\lib\\site-packages (from tyro->unsloth) (1.7.2)\n",
      "Requirement already satisfied: typeguard>=4.0.0 in c:\\users\\jinwi\\programming-files\\email-llm\\.venv\\lib\\site-packages (from tyro->unsloth) (4.4.4)\n",
      "Requirement already satisfied: markdown-it-py>=2.2.0 in c:\\users\\jinwi\\programming-files\\email-llm\\.venv\\lib\\site-packages (from rich>=11.1.0->tyro->unsloth) (4.0.0)\n",
      "Requirement already satisfied: pygments<3.0.0,>=2.13.0 in c:\\users\\jinwi\\programming-files\\email-llm\\.venv\\lib\\site-packages (from rich>=11.1.0->tyro->unsloth) (2.19.2)\n",
      "Requirement already satisfied: mdurl~=0.1 in c:\\users\\jinwi\\programming-files\\email-llm\\.venv\\lib\\site-packages (from markdown-it-py>=2.2.0->rich>=11.1.0->tyro->unsloth) (0.1.2)\n",
      "Requirement already satisfied: transformers==4.55.4 in c:\\users\\jinwi\\programming-files\\email-llm\\.venv\\lib\\site-packages (4.55.4)\n",
      "Requirement already satisfied: filelock in c:\\users\\jinwi\\programming-files\\email-llm\\.venv\\lib\\site-packages (from transformers==4.55.4) (3.19.1)\n",
      "Requirement already satisfied: huggingface-hub<1.0,>=0.34.0 in c:\\users\\jinwi\\programming-files\\email-llm\\.venv\\lib\\site-packages (from transformers==4.55.4) (0.35.3)\n",
      "Requirement already satisfied: numpy>=1.17 in c:\\users\\jinwi\\programming-files\\email-llm\\.venv\\lib\\site-packages (from transformers==4.55.4) (2.3.3)\n",
      "Requirement already satisfied: packaging>=20.0 in c:\\users\\jinwi\\programming-files\\email-llm\\.venv\\lib\\site-packages (from transformers==4.55.4) (25.0)\n",
      "Requirement already satisfied: pyyaml>=5.1 in c:\\users\\jinwi\\programming-files\\email-llm\\.venv\\lib\\site-packages (from transformers==4.55.4) (6.0.3)\n",
      "Requirement already satisfied: regex!=2019.12.17 in c:\\users\\jinwi\\programming-files\\email-llm\\.venv\\lib\\site-packages (from transformers==4.55.4) (2025.9.18)\n",
      "Requirement already satisfied: requests in c:\\users\\jinwi\\programming-files\\email-llm\\.venv\\lib\\site-packages (from transformers==4.55.4) (2.32.5)\n",
      "Requirement already satisfied: tokenizers<0.22,>=0.21 in c:\\users\\jinwi\\programming-files\\email-llm\\.venv\\lib\\site-packages (from transformers==4.55.4) (0.21.4)\n",
      "Requirement already satisfied: safetensors>=0.4.3 in c:\\users\\jinwi\\programming-files\\email-llm\\.venv\\lib\\site-packages (from transformers==4.55.4) (0.6.2)\n",
      "Requirement already satisfied: tqdm>=4.27 in c:\\users\\jinwi\\programming-files\\email-llm\\.venv\\lib\\site-packages (from transformers==4.55.4) (4.67.1)\n",
      "Requirement already satisfied: fsspec>=2023.5.0 in c:\\users\\jinwi\\programming-files\\email-llm\\.venv\\lib\\site-packages (from huggingface-hub<1.0,>=0.34.0->transformers==4.55.4) (2025.9.0)\n",
      "Requirement already satisfied: typing-extensions>=3.7.4.3 in c:\\users\\jinwi\\programming-files\\email-llm\\.venv\\lib\\site-packages (from huggingface-hub<1.0,>=0.34.0->transformers==4.55.4) (4.15.0)\n",
      "Requirement already satisfied: colorama in c:\\users\\jinwi\\programming-files\\email-llm\\.venv\\lib\\site-packages (from tqdm>=4.27->transformers==4.55.4) (0.4.6)\n",
      "Requirement already satisfied: charset_normalizer<4,>=2 in c:\\users\\jinwi\\programming-files\\email-llm\\.venv\\lib\\site-packages (from requests->transformers==4.55.4) (3.4.3)\n",
      "Requirement already satisfied: idna<4,>=2.5 in c:\\users\\jinwi\\programming-files\\email-llm\\.venv\\lib\\site-packages (from requests->transformers==4.55.4) (3.10)\n",
      "Requirement already satisfied: urllib3<3,>=1.21.1 in c:\\users\\jinwi\\programming-files\\email-llm\\.venv\\lib\\site-packages (from requests->transformers==4.55.4) (2.5.0)\n",
      "Requirement already satisfied: certifi>=2017.4.17 in c:\\users\\jinwi\\programming-files\\email-llm\\.venv\\lib\\site-packages (from requests->transformers==4.55.4) (2025.10.5)\n",
      "Requirement already satisfied: trl==0.22.2 in c:\\users\\jinwi\\programming-files\\email-llm\\.venv\\lib\\site-packages (0.22.2)\n"
     ]
    }
   ],
   "source": [
    "import os, re\n",
    "if \"COLAB_\" not in \"\".join(os.environ.keys()):\n",
    "    !pip install unsloth\n",
    "else:\n",
    "    # Do this only in Colab notebooks! Otherwise use pip install unsloth\n",
    "    import torch; v = re.match(r\"[0-9\\.]{3,}\", str(torch.__version__)).group(0)\n",
    "    xformers = \"xformers==\" + (\"0.0.32.post2\" if v == \"2.8.0\" else \"0.0.29.post3\")\n",
    "    !pip install --no-deps bitsandbytes accelerate {xformers} peft trl triton cut_cross_entropy unsloth_zoo\n",
    "    !pip install sentencepiece protobuf \"datasets>=3.4.1,<4.0.0\" \"huggingface_hub>=0.34.0\" hf_transfer\n",
    "    !pip install --no-deps unsloth\n",
    "!pip install transformers==4.55.4\n",
    "!pip install --no-deps trl==0.22.2"
   ]
  },
  {
   "cell_type": "code",
   "execution_count": 1,
   "id": "cf8c21b8-d11c-469d-87e2-24e1d931cdfa",
   "metadata": {},
   "outputs": [
    {
     "name": "stdout",
     "output_type": "stream",
     "text": [
      "C:\\Users\\jinwi\\Programming-Files\\email-llm\\.venv\\Scripts\\python.exe\n",
      "['C:\\\\Users\\\\jinwi\\\\AppData\\\\Local\\\\Programs\\\\Python\\\\Python313\\\\python313.zip', 'C:\\\\Users\\\\jinwi\\\\AppData\\\\Local\\\\Programs\\\\Python\\\\Python313\\\\DLLs', 'C:\\\\Users\\\\jinwi\\\\AppData\\\\Local\\\\Programs\\\\Python\\\\Python313\\\\Lib', 'C:\\\\Users\\\\jinwi\\\\AppData\\\\Local\\\\Programs\\\\Python\\\\Python313', 'C:\\\\Users\\\\jinwi\\\\Programming-Files\\\\email-llm\\\\.venv', '', 'C:\\\\Users\\\\jinwi\\\\Programming-Files\\\\email-llm\\\\.venv\\\\Lib\\\\site-packages', 'C:\\\\Users\\\\jinwi\\\\Programming-Files\\\\email-llm\\\\.venv\\\\Lib\\\\site-packages\\\\win32', 'C:\\\\Users\\\\jinwi\\\\Programming-Files\\\\email-llm\\\\.venv\\\\Lib\\\\site-packages\\\\win32\\\\lib', 'C:\\\\Users\\\\jinwi\\\\Programming-Files\\\\email-llm\\\\.venv\\\\Lib\\\\site-packages\\\\Pythonwin']\n"
     ]
    }
   ],
   "source": [
    "import sys\n",
    "print(sys.executable)\n",
    "print(sys.path)"
   ]
  },
  {
   "cell_type": "code",
   "execution_count": 3,
   "id": "6b79f83c-9941-4666-8f9d-a86cb885b5ce",
   "metadata": {},
   "outputs": [
    {
     "name": "stdout",
     "output_type": "stream",
     "text": [
      "CUDA available: False\n"
     ]
    }
   ],
   "source": [
    "import torch\n",
    "print(f\"CUDA available: {torch.cuda.is_available()}\")\n",
    "if torch.cuda.is_available():\n",
    "    print(f\"Number of GPUs: {torch.cuda.device_count()}\")\n",
    "    print(f\"Current GPU: {torch.cuda.current_device()}\")\n",
    "    print(f\"GPU Name: {torch.cuda.get_device_name(0)}\")"
   ]
  },
  {
   "cell_type": "code",
   "execution_count": 2,
   "id": "e0db062f-2e64-49ec-aeb3-b706dfad1130",
   "metadata": {},
   "outputs": [
    {
     "ename": "NotImplementedError",
     "evalue": "Unsloth currently only works on NVIDIA GPUs and Intel GPUs.",
     "output_type": "error",
     "traceback": [
      "\u001b[31m---------------------------------------------------------------------------\u001b[39m",
      "\u001b[31mNotImplementedError\u001b[39m                       Traceback (most recent call last)",
      "\u001b[36mCell\u001b[39m\u001b[36m \u001b[39m\u001b[32mIn[2]\u001b[39m\u001b[32m, line 1\u001b[39m\n\u001b[32m----> \u001b[39m\u001b[32m1\u001b[39m \u001b[38;5;28;01mfrom\u001b[39;00m\u001b[38;5;250m \u001b[39m\u001b[34;01munsloth\u001b[39;00m\u001b[38;5;250m \u001b[39m\u001b[38;5;28;01mimport\u001b[39;00m FastLanguageModel\n\u001b[32m      2\u001b[39m \u001b[38;5;28;01mimport\u001b[39;00m\u001b[38;5;250m \u001b[39m\u001b[34;01mtorch\u001b[39;00m\n\u001b[32m      3\u001b[39m max_seq_length = \u001b[32m4096\u001b[39m\n",
      "\u001b[36mFile \u001b[39m\u001b[32m~\\Programming-Files\\email-llm\\.venv\\Lib\\site-packages\\unsloth\\__init__.py:87\u001b[39m\n\u001b[32m     85\u001b[39m     \u001b[38;5;28;01mraise\u001b[39;00m \u001b[38;5;167;01mNotImplementedError\u001b[39;00m(\u001b[33m\"\u001b[39m\u001b[33mUnsloth currently only works on NVIDIA GPUs and Intel GPUs.\u001b[39m\u001b[33m\"\u001b[39m)\n\u001b[32m     86\u001b[39m \u001b[38;5;28;01mpass\u001b[39;00m\n\u001b[32m---> \u001b[39m\u001b[32m87\u001b[39m DEVICE_TYPE : \u001b[38;5;28mstr\u001b[39m = \u001b[43mget_device_type\u001b[49m\u001b[43m(\u001b[49m\u001b[43m)\u001b[49m\n\u001b[32m     89\u001b[39m \u001b[38;5;129m@functools\u001b[39m.cache\n\u001b[32m     90\u001b[39m \u001b[38;5;28;01mdef\u001b[39;00m\u001b[38;5;250m \u001b[39m\u001b[34mget_device_count\u001b[39m():\n\u001b[32m     91\u001b[39m     \u001b[38;5;28;01mif\u001b[39;00m DEVICE_TYPE \u001b[38;5;129;01min\u001b[39;00m (\u001b[33m\"\u001b[39m\u001b[33mcuda\u001b[39m\u001b[33m\"\u001b[39m, \u001b[33m\"\u001b[39m\u001b[33mhip\u001b[39m\u001b[33m\"\u001b[39m):\n",
      "\u001b[36mFile \u001b[39m\u001b[32m~\\Programming-Files\\email-llm\\.venv\\Lib\\site-packages\\unsloth\\__init__.py:85\u001b[39m, in \u001b[36mget_device_type\u001b[39m\u001b[34m()\u001b[39m\n\u001b[32m     83\u001b[39m \u001b[38;5;28;01melif\u001b[39;00m \u001b[38;5;28mhasattr\u001b[39m(torch, \u001b[33m\"\u001b[39m\u001b[33mxpu\u001b[39m\u001b[33m\"\u001b[39m) \u001b[38;5;129;01mand\u001b[39;00m torch.xpu.is_available():\n\u001b[32m     84\u001b[39m     \u001b[38;5;28;01mreturn\u001b[39;00m \u001b[33m\"\u001b[39m\u001b[33mxpu\u001b[39m\u001b[33m\"\u001b[39m\n\u001b[32m---> \u001b[39m\u001b[32m85\u001b[39m \u001b[38;5;28;01mraise\u001b[39;00m \u001b[38;5;167;01mNotImplementedError\u001b[39;00m(\u001b[33m\"\u001b[39m\u001b[33mUnsloth currently only works on NVIDIA GPUs and Intel GPUs.\u001b[39m\u001b[33m\"\u001b[39m)\n",
      "\u001b[31mNotImplementedError\u001b[39m: Unsloth currently only works on NVIDIA GPUs and Intel GPUs."
     ]
    }
   ],
   "source": [
    "from unsloth import FastLanguageModel\n",
    "import torch\n",
    "max_seq_length = 4096\n",
    "dtype = None \n",
    "load_in_4bit = True \n",
    "\n",
    "model, tokenizer = FastLanguageModel.from_pretrained(\n",
    "    model_name = \"unsloth/Qwen3-14B-Base-unsloth-bnb-4bit\",\n",
    "    max_seq_length = max_seq_length,\n",
    "    dtype = dtype,\n",
    "    load_in_4bit = load_in_4bit,\n",
    ")\n",
    "\n",
    "model = FastLanguageModel.get_peft_model(\n",
    "    model,\n",
    "    r=16,\n",
    "    target_modules = [\"q_proj\", \"k_proj\", \"v_proj\", \"o_proj\",\n",
    "                      \"gate_proj\", \"up_proj\", \"down_proj\",],\n",
    "    lora_alpha = 16,\n",
    "    lora_dropout = 0,\n",
    "    bias = \"none\",\n",
    "    use_gradient_checkpointing = \"unsloth\",\n",
    "    random_state = 3407,\n",
    "    use_rslora = False,\n",
    "    loftq_config = None,\n",
    ")"
   ]
  },
  {
   "cell_type": "code",
   "execution_count": null,
   "id": "b9d1a8db",
   "metadata": {
    "vscode": {
     "languageId": "plaintext"
    }
   },
   "outputs": [],
   "source": [
    "alpaca_prompt = \"\"\"Below is an instruction that describes a task, paired with an input that provides further context. Write a response that appropriately completes the request.\n",
    "\n",
    "    ### Instruction:\n",
    "    {}\n",
    "\n",
    "    ### Input:\n",
    "    {}\n",
    "\n",
    "    ### Response:\n",
    "    {}\"\"\"\n",
    "EOS_TK = tokenizer.eos_token\n",
    "def format_inputs():\n",
    "    \n",
    "\n"
   ]
  },
  {
   "cell_type": "code",
   "execution_count": null,
   "id": "99a13d2a-7858-4ad4-b4c9-9070cbe9eaaa",
   "metadata": {},
   "outputs": [],
   "source": []
  }
 ],
 "metadata": {
  "kernelspec": {
   "display_name": "Python (email-llm venv)",
   "language": "python",
   "name": ".venv"
  },
  "language_info": {
   "codemirror_mode": {
    "name": "ipython",
    "version": 3
   },
   "file_extension": ".py",
   "mimetype": "text/x-python",
   "name": "python",
   "nbconvert_exporter": "python",
   "pygments_lexer": "ipython3",
   "version": "3.13.5"
  }
 },
 "nbformat": 4,
 "nbformat_minor": 5
}
